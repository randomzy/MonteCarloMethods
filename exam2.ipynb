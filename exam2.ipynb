{
 "cells": [
  {
   "cell_type": "code",
   "execution_count": 1,
   "metadata": {},
   "outputs": [],
   "source": [
    "import numpy as np\n",
    "np.set_printoptions(precision=5,suppress=True)"
   ]
  },
  {
   "cell_type": "code",
   "execution_count": 2,
   "metadata": {},
   "outputs": [],
   "source": [
    "#adjacency dictionary\n",
    "#right,up,left,down\n",
    "neighbours = {0:[0,1,0,0],\n",
    "              1:[1,2,3,0],\n",
    "              2:[2,2,2,1],\n",
    "              3:[4,3,1,3],\n",
    "              4:[4,5,3,4],\n",
    "              5:[5,5,5,4]}\n",
    "\n",
    "states = len(neighbours)\n",
    "#right,up,left,down\n",
    "direction_probability = [0.2,0.5,0.1,0.2]\n",
    "stationary_distribution = {0:7,\n",
    "                           1:5,\n",
    "                           2:4,\n",
    "                           3:1,\n",
    "                           4:5,\n",
    "                           5:7}\n",
    "\n",
    "if(len(stationary_distribution) != states):\n",
    "    print(\"Stationary distribution doesnt match number of states!\")"
   ]
  },
  {
   "cell_type": "code",
   "execution_count": 3,
   "metadata": {},
   "outputs": [
    {
     "name": "stdout",
     "output_type": "stream",
     "text": [
      "Metropolis matrix\n",
      " [[0.82143 0.17857 0.      0.      0.      0.     ]\n",
      " [0.25    0.5     0.2     0.05    0.      0.     ]\n",
      " [0.      0.25    0.75    0.      0.      0.     ]\n",
      " [0.      0.25    0.      0.5     0.25    0.     ]\n",
      " [0.      0.      0.      0.05    0.7     0.25   ]\n",
      " [0.      0.      0.      0.      0.17857 0.82143]]\n"
     ]
    }
   ],
   "source": [
    "#Metropolis\n",
    "metropolis_mat = np.zeros((states,states))\n",
    "\n",
    "for state,adjacent in zip(neighbours.keys(),neighbours.values()):\n",
    "    accept_probability = 0.0 #the probability to move to any of the neighbouring states\n",
    "    for direction in range(4):\n",
    "        if(adjacent[direction]!=state):\n",
    "            acceptance_ratio = min(1,stationary_distribution[adjacent[direction]]/stationary_distribution[state])\n",
    "            transition_probability = (1/4)*acceptance_ratio\n",
    "            accept_probability += transition_probability\n",
    "            metropolis_mat[state,adjacent[direction]] = transition_probability\n",
    "    metropolis_mat[state,state] = 1-accept_probability    \n",
    "    \n",
    "print(\"Metropolis matrix\\n\",metropolis_mat)"
   ]
  },
  {
   "cell_type": "code",
   "execution_count": 4,
   "metadata": {},
   "outputs": [
    {
     "name": "stdout",
     "output_type": "stream",
     "text": [
      "Metropolis Hastings matrix\n",
      " [[0.85714 0.14286 0.      0.      0.      0.     ]\n",
      " [0.2     0.62    0.16    0.02    0.      0.     ]\n",
      " [0.      0.2     0.8     0.      0.      0.     ]\n",
      " [0.      0.1     0.      0.7     0.2     0.     ]\n",
      " [0.      0.      0.      0.04    0.68    0.28   ]\n",
      " [0.      0.      0.      0.      0.2     0.8    ]]\n"
     ]
    }
   ],
   "source": [
    "#Metropolis-Hastings\n",
    "MH_mat = np.zeros((states,states))\n",
    "proposal_mat = np.zeros((states,states))\n",
    "\n",
    "#could be inserted in above algorithm for speedup\n",
    "for state,adjacent in zip(neighbours.keys(),neighbours.values()):\n",
    "    for direction in range(4):\n",
    "        proposal_mat[state,adjacent[direction]] += direction_probability[direction]\n",
    "        \n",
    "for state,adjacent in zip(neighbours.keys(),neighbours.values()):\n",
    "    accept_probability = 0.0 #the probability to move to any of the neighbouring states\n",
    "    for direction in range(4):\n",
    "        if(adjacent[direction]!=state):\n",
    "            acceptance_ratio = min(1, \\\n",
    "                (stationary_distribution[adjacent[direction]]*proposal_mat[adjacent[direction],state])/ \\\n",
    "                (stationary_distribution[state]*proposal_mat[state,adjacent[direction]]))\n",
    "            transition_probability = direction_probability[direction]*acceptance_ratio\n",
    "            accept_probability += transition_probability\n",
    "            MH_mat[state,adjacent[direction]] = transition_probability\n",
    "    MH_mat[state,state] = 1-accept_probability\n",
    "    \n",
    "for num,line in enumerate(np.sum(MH_mat,axis=1)):\n",
    "    if(abs(line-1)>0.0000001):\n",
    "        print(f\"Sum of line {num} is not zero\")\n",
    "        break\n",
    "if(MH_mat.min()<0):\n",
    "    print(\"Minimum value is negative\")\n",
    "    \n",
    "print(\"Metropolis Hastings matrix\\n\",MH_mat)"
   ]
  },
  {
   "cell_type": "code",
   "execution_count": 5,
   "metadata": {},
   "outputs": [
    {
     "name": "stdout",
     "output_type": "stream",
     "text": [
      "Metropolis rejection rates:\n",
      " [0.8214285714285714, 0.5, 0.75, 0.5, 0.7, 0.8214285714285714]\n",
      "Metropolis Hastings rejection rates:\n",
      " [0.8571428571428572, 0.62, 0.8, 0.7, 0.6799999999999999, 0.8]\n"
     ]
    }
   ],
   "source": [
    "def rejectionRate(mat):\n",
    "    rejectionRates = []\n",
    "    for i in range(mat.shape[0]):\n",
    "        rejectionRates.append(mat[i,i])\n",
    "    return rejectionRates\n",
    "\n",
    "print(\"Metropolis rejection rates:\\n\",rejectionRate(metropolis_mat))\n",
    "print(\"Metropolis Hastings rejection rates:\\n\",rejectionRate(MH_mat))"
   ]
  },
  {
   "cell_type": "code",
   "execution_count": 6,
   "metadata": {},
   "outputs": [
    {
     "name": "stdout",
     "output_type": "stream",
     "text": [
      "eigenvalue: 0.9999999999999989\n",
      "[0.24138 0.17241 0.13793 0.03448 0.17241 0.24138]\n"
     ]
    }
   ],
   "source": [
    "eigenvalues, eigenvectors = np.linalg.eig(MH_mat.transpose())\n",
    "for i in range(states):\n",
    "    if(abs(eigenvalues[i]-1)<0.0000000001):\n",
    "        print(\"eigenvalue:\", eigenvalues[i])\n",
    "        print(eigenvectors[:, i] / sum(eigenvectors[:, i]))"
   ]
  },
  {
   "cell_type": "code",
   "execution_count": 7,
   "metadata": {},
   "outputs": [
    {
     "name": "stdout",
     "output_type": "stream",
     "text": [
      "eigenvalue: 0.999999999999999\n",
      "[0.24138 0.17241 0.13793 0.03448 0.17241 0.24138]\n"
     ]
    }
   ],
   "source": [
    "eigenvalues, eigenvectors = np.linalg.eig(metropolis_mat.transpose())\n",
    "for i in range(states):\n",
    "    if(abs(eigenvalues[i]-1)<0.0000000001):\n",
    "        print(\"eigenvalue:\", eigenvalues[i])\n",
    "        print(eigenvectors[:, i] / sum(eigenvectors[:, i]))"
   ]
  },
  {
   "cell_type": "code",
   "execution_count": 8,
   "metadata": {},
   "outputs": [
    {
     "name": "stdout",
     "output_type": "stream",
     "text": [
      "[0.2413793103448276, 0.1724137931034483, 0.13793103448275862, 0.034482758620689655, 0.1724137931034483, 0.2413793103448276]\n"
     ]
    }
   ],
   "source": [
    "#sanity check\n",
    "z = sum(stationary_distribution.values())\n",
    "print([x/z for x in stationary_distribution.values()])"
   ]
  },
  {
   "cell_type": "code",
   "execution_count": null,
   "metadata": {},
   "outputs": [],
   "source": []
  }
 ],
 "metadata": {
  "kernelspec": {
   "display_name": "Python 3",
   "language": "python",
   "name": "python3"
  },
  "language_info": {
   "codemirror_mode": {
    "name": "ipython",
    "version": 3
   },
   "file_extension": ".py",
   "mimetype": "text/x-python",
   "name": "python",
   "nbconvert_exporter": "python",
   "pygments_lexer": "ipython3",
   "version": "3.6.5"
  }
 },
 "nbformat": 4,
 "nbformat_minor": 2
}
